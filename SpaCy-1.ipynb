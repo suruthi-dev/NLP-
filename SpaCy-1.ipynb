{
 "cells": [
  {
   "cell_type": "markdown",
   "id": "a1da4a62",
   "metadata": {},
   "source": [
    "https://www.kaggle.com/code/ritvik1909/named-entity-recognition-spacy\n",
    "\n",
    "https://www.kaggle.com/code/owaiskhan9654/keyword-extraction-and-ner-tagging-spacy"
   ]
  },
  {
   "cell_type": "markdown",
   "id": "2ac943bc",
   "metadata": {},
   "source": []
  },
  {
   "cell_type": "code",
   "execution_count": 1,
   "id": "281115d7",
   "metadata": {},
   "outputs": [],
   "source": [
    "import spacy"
   ]
  },
  {
   "cell_type": "code",
   "execution_count": 11,
   "id": "5df103d0",
   "metadata": {},
   "outputs": [],
   "source": [
    "nlp = spacy.load('en_core_web_sm')"
   ]
  },
  {
   "cell_type": "code",
   "execution_count": 8,
   "id": "1e499958",
   "metadata": {},
   "outputs": [],
   "source": [
    "doc = nlp('''spaCy is an open-source software library for advanced natural language processing, written in the programming languages Python and Cython.!!! for '$500 Billion' ''')"
   ]
  },
  {
   "cell_type": "code",
   "execution_count": 9,
   "id": "a312c262",
   "metadata": {},
   "outputs": [
    {
     "name": "stdout",
     "output_type": "stream",
     "text": [
      "spaCy\n",
      "is\n",
      "an\n",
      "open\n",
      "-\n",
      "source\n",
      "software\n",
      "library\n",
      "for\n",
      "advanced\n",
      "natural\n",
      "language\n",
      "processing\n",
      ",\n",
      "written\n",
      "in\n",
      "the\n",
      "programming\n",
      "languages\n",
      "Python\n",
      "and\n",
      "Cython\n",
      ".\n",
      "!\n",
      "!\n",
      "!\n",
      "for\n",
      "'\n",
      "$\n",
      "500\n",
      "Billion\n",
      "'\n"
     ]
    }
   ],
   "source": [
    "for token in doc:\n",
    "    print(token.text)"
   ]
  },
  {
   "cell_type": "code",
   "execution_count": 15,
   "id": "b4e1deff",
   "metadata": {},
   "outputs": [
    {
     "data": {
      "text/plain": [
       "['tok2vec',\n",
       " 'tagger',\n",
       " 'parser',\n",
       " 'attribute_ruler',\n",
       " 'lemmatizer',\n",
       " 'ner',\n",
       " 'sentencizer']"
      ]
     },
     "execution_count": 15,
     "metadata": {},
     "output_type": "execute_result"
    }
   ],
   "source": [
    "nlp.pipe_names"
   ]
  },
  {
   "cell_type": "code",
   "execution_count": 14,
   "id": "0be3d168",
   "metadata": {},
   "outputs": [
    {
     "data": {
      "text/plain": [
       "<spacy.pipeline.sentencizer.Sentencizer at 0x1d30b460740>"
      ]
     },
     "execution_count": 14,
     "metadata": {},
     "output_type": "execute_result"
    }
   ],
   "source": [
    "nlp.add_pipe('sentencizer')"
   ]
  },
  {
   "cell_type": "code",
   "execution_count": 18,
   "id": "3c8be584",
   "metadata": {},
   "outputs": [
    {
     "name": "stdout",
     "output_type": "stream",
     "text": [
      "spaCy  |   INTJ  |   spacy\n",
      "is  |   AUX  |   be\n",
      "an  |   DET  |   an\n",
      "open  |   ADJ  |   open\n",
      "-  |   PUNCT  |   -\n",
      "source  |   NOUN  |   source\n",
      "software  |   NOUN  |   software\n",
      "library  |   NOUN  |   library\n",
      "for  |   ADP  |   for\n",
      "advanced  |   ADJ  |   advanced\n",
      "natural  |   ADJ  |   natural\n",
      "language  |   NOUN  |   language\n",
      "processing  |   NOUN  |   processing\n",
      ",  |   PUNCT  |   ,\n",
      "written  |   VERB  |   write\n",
      "in  |   ADP  |   in\n",
      "the  |   DET  |   the\n",
      "programming  |   NOUN  |   programming\n",
      "languages  |   NOUN  |   language\n",
      "Python  |   PROPN  |   Python\n",
      "and  |   CCONJ  |   and\n",
      "Cython  |   PROPN  |   Cython\n",
      ".  |   PUNCT  |   .\n",
      "!  |   PUNCT  |   !\n",
      "!  |   PUNCT  |   !\n",
      "!  |   PUNCT  |   !\n",
      "for  |   ADP  |   for\n",
      "'  |   PUNCT  |   '\n",
      "$  |   SYM  |   $\n",
      "500  |   NUM  |   500\n",
      "Billion  |   NUM  |   billion\n",
      "'  |   PUNCT  |   '\n"
     ]
    }
   ],
   "source": [
    "for token in doc:\n",
    "    print(token.text, \" |  \",token.pos_ , ' |  ',token.lemma_)"
   ]
  },
  {
   "cell_type": "code",
   "execution_count": null,
   "id": "96f06d41",
   "metadata": {},
   "outputs": [],
   "source": []
  },
  {
   "cell_type": "code",
   "execution_count": null,
   "id": "f4dc105d",
   "metadata": {},
   "outputs": [],
   "source": []
  },
  {
   "cell_type": "code",
   "execution_count": 20,
   "id": "f9232681",
   "metadata": {},
   "outputs": [
    {
     "name": "stdout",
     "output_type": "stream",
     "text": [
      "Cython  -->  PERSON\n",
      "$500 Billion  -->  MONEY\n"
     ]
    }
   ],
   "source": [
    "for token in doc.ents:\n",
    "    print(token.text,\" --> \", token.label_)"
   ]
  },
  {
   "cell_type": "code",
   "execution_count": 23,
   "id": "d328861e",
   "metadata": {},
   "outputs": [
    {
     "data": {
      "text/html": [
       "<span class=\"tex2jax_ignore\"><div class=\"entities\" style=\"line-height: 2.5; direction: ltr\">spaCy is an open-source software library for advanced natural language processing, written in the programming languages Python and \n",
       "<mark class=\"entity\" style=\"background: #aa9cfc; padding: 0.45em 0.6em; margin: 0 0.25em; line-height: 1; border-radius: 0.35em;\">\n",
       "    Cython\n",
       "    <span style=\"font-size: 0.8em; font-weight: bold; line-height: 1; border-radius: 0.35em; vertical-align: middle; margin-left: 0.5rem\">PERSON</span>\n",
       "</mark>\n",
       ".!!! for '\n",
       "<mark class=\"entity\" style=\"background: #e4e7d2; padding: 0.45em 0.6em; margin: 0 0.25em; line-height: 1; border-radius: 0.35em;\">\n",
       "    $500 Billion\n",
       "    <span style=\"font-size: 0.8em; font-weight: bold; line-height: 1; border-radius: 0.35em; vertical-align: middle; margin-left: 0.5rem\">MONEY</span>\n",
       "</mark>\n",
       "' </div></span>"
      ],
      "text/plain": [
       "<IPython.core.display.HTML object>"
      ]
     },
     "metadata": {},
     "output_type": "display_data"
    }
   ],
   "source": [
    "from spacy import displacy\n",
    "displacy.render(doc,style = 'ent')"
   ]
  },
  {
   "cell_type": "markdown",
   "id": "fd20a943",
   "metadata": {},
   "source": [
    "A bigram tagger is a type of part-of-speech (POS) tagger that uses a statistical approach to assign tags to words in a sentence based on the probability of the current word given the previous word.\n",
    "\n",
    "The bigram tagger considers pairs of adjacent words (i.e., bigrams) and assigns a POS tag to the current word based on the POS tag assigned to the previous word in the bigram. This is done by calculating the conditional probability of the current word's POS tag given the previous word's POS tag. The most likely POS tag is then assigned to the current word.\n",
    "\n",
    "For example, if the previous word in the sentence is a noun (NN), and the current word is \"is,\" the bigram tagger might assign the verb (VB) tag to \"is\" based on the high probability of a verb following a noun in English syntax.\n",
    "\n",
    "The accuracy of a bigram tagger can be improved by using more context, such as trigrams or higher-order n-grams, and by incorporating more advanced techniques such as rule-based tagging and machine learning."
   ]
  },
  {
   "cell_type": "code",
   "execution_count": null,
   "id": "464524ca",
   "metadata": {},
   "outputs": [],
   "source": [
    "import nltk\n",
    "from nltk.corpus import brown\n",
    "\n",
    "# train the bigram tagger on the Brown corpus\n",
    "brown_sents = brown.tagged_sents(categories='news')\n",
    "bigram_tagger = nltk.BigramTagger(brown_sents)\n",
    "\n",
    "# test the bigram tagger on a sample sentence\n",
    "test_sent = \"The quick brown fox jumps over the lazy dog\"\n",
    "tokens = nltk.word_tokenize(test_sent)\n",
    "tags = bigram_tagger.tag(tokens)\n",
    "\n",
    "print(tags)\n"
   ]
  },
  {
   "cell_type": "code",
   "execution_count": null,
   "id": "8d0de155",
   "metadata": {},
   "outputs": [],
   "source": []
  },
  {
   "cell_type": "code",
   "execution_count": null,
   "id": "e30afe83",
   "metadata": {},
   "outputs": [],
   "source": []
  },
  {
   "cell_type": "code",
   "execution_count": null,
   "id": "8294adfc",
   "metadata": {},
   "outputs": [],
   "source": []
  },
  {
   "cell_type": "code",
   "execution_count": null,
   "id": "11f0a55c",
   "metadata": {},
   "outputs": [],
   "source": []
  },
  {
   "cell_type": "code",
   "execution_count": null,
   "id": "f31b4272",
   "metadata": {},
   "outputs": [],
   "source": []
  }
 ],
 "metadata": {
  "kernelspec": {
   "display_name": "Python 3 (ipykernel)",
   "language": "python",
   "name": "python3"
  },
  "language_info": {
   "codemirror_mode": {
    "name": "ipython",
    "version": 3
   },
   "file_extension": ".py",
   "mimetype": "text/x-python",
   "name": "python",
   "nbconvert_exporter": "python",
   "pygments_lexer": "ipython3",
   "version": "3.9.12"
  }
 },
 "nbformat": 4,
 "nbformat_minor": 5
}
